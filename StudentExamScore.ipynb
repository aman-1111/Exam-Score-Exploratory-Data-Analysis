{
 "cells": [
  {
   "cell_type": "code",
   "execution_count": 1,
   "id": "5c0772a2-5454-4470-99bc-ac1fb33c87b3",
   "metadata": {},
   "outputs": [],
   "source": [
    "import pandas as pd\n",
    "import seaborn as sns\n",
    "import matplotlib.pyplot as plt"
   ]
  },
  {
   "cell_type": "code",
   "execution_count": 2,
   "id": "89ac3ee3-d529-4c2e-83d6-cfc9199801da",
   "metadata": {},
   "outputs": [
    {
     "data": {
      "text/html": [
       "<div>\n",
       "<style scoped>\n",
       "    .dataframe tbody tr th:only-of-type {\n",
       "        vertical-align: middle;\n",
       "    }\n",
       "\n",
       "    .dataframe tbody tr th {\n",
       "        vertical-align: top;\n",
       "    }\n",
       "\n",
       "    .dataframe thead th {\n",
       "        text-align: right;\n",
       "    }\n",
       "</style>\n",
       "<table border=\"1\" class=\"dataframe\">\n",
       "  <thead>\n",
       "    <tr style=\"text-align: right;\">\n",
       "      <th></th>\n",
       "      <th>student_id</th>\n",
       "      <th>hours_studied</th>\n",
       "      <th>sleep_hours</th>\n",
       "      <th>attendance_percent</th>\n",
       "      <th>previous_scores</th>\n",
       "      <th>exam_score</th>\n",
       "    </tr>\n",
       "  </thead>\n",
       "  <tbody>\n",
       "    <tr>\n",
       "      <th>0</th>\n",
       "      <td>S001</td>\n",
       "      <td>8.0</td>\n",
       "      <td>8.8</td>\n",
       "      <td>72.1</td>\n",
       "      <td>45</td>\n",
       "      <td>30.2</td>\n",
       "    </tr>\n",
       "    <tr>\n",
       "      <th>1</th>\n",
       "      <td>S002</td>\n",
       "      <td>1.3</td>\n",
       "      <td>8.6</td>\n",
       "      <td>60.7</td>\n",
       "      <td>55</td>\n",
       "      <td>25.0</td>\n",
       "    </tr>\n",
       "    <tr>\n",
       "      <th>2</th>\n",
       "      <td>S003</td>\n",
       "      <td>4.0</td>\n",
       "      <td>8.2</td>\n",
       "      <td>73.7</td>\n",
       "      <td>86</td>\n",
       "      <td>35.8</td>\n",
       "    </tr>\n",
       "    <tr>\n",
       "      <th>3</th>\n",
       "      <td>S004</td>\n",
       "      <td>3.5</td>\n",
       "      <td>4.8</td>\n",
       "      <td>95.1</td>\n",
       "      <td>66</td>\n",
       "      <td>34.0</td>\n",
       "    </tr>\n",
       "    <tr>\n",
       "      <th>4</th>\n",
       "      <td>S005</td>\n",
       "      <td>9.1</td>\n",
       "      <td>6.4</td>\n",
       "      <td>89.8</td>\n",
       "      <td>71</td>\n",
       "      <td>40.3</td>\n",
       "    </tr>\n",
       "    <tr>\n",
       "      <th>...</th>\n",
       "      <td>...</td>\n",
       "      <td>...</td>\n",
       "      <td>...</td>\n",
       "      <td>...</td>\n",
       "      <td>...</td>\n",
       "      <td>...</td>\n",
       "    </tr>\n",
       "    <tr>\n",
       "      <th>195</th>\n",
       "      <td>S196</td>\n",
       "      <td>10.5</td>\n",
       "      <td>5.4</td>\n",
       "      <td>94.0</td>\n",
       "      <td>87</td>\n",
       "      <td>42.7</td>\n",
       "    </tr>\n",
       "    <tr>\n",
       "      <th>196</th>\n",
       "      <td>S197</td>\n",
       "      <td>7.1</td>\n",
       "      <td>6.1</td>\n",
       "      <td>85.1</td>\n",
       "      <td>92</td>\n",
       "      <td>40.4</td>\n",
       "    </tr>\n",
       "    <tr>\n",
       "      <th>197</th>\n",
       "      <td>S198</td>\n",
       "      <td>1.6</td>\n",
       "      <td>6.9</td>\n",
       "      <td>63.8</td>\n",
       "      <td>76</td>\n",
       "      <td>28.2</td>\n",
       "    </tr>\n",
       "    <tr>\n",
       "      <th>198</th>\n",
       "      <td>S199</td>\n",
       "      <td>12.0</td>\n",
       "      <td>7.3</td>\n",
       "      <td>50.5</td>\n",
       "      <td>58</td>\n",
       "      <td>42.0</td>\n",
       "    </tr>\n",
       "    <tr>\n",
       "      <th>199</th>\n",
       "      <td>S200</td>\n",
       "      <td>10.2</td>\n",
       "      <td>6.3</td>\n",
       "      <td>97.4</td>\n",
       "      <td>68</td>\n",
       "      <td>37.8</td>\n",
       "    </tr>\n",
       "  </tbody>\n",
       "</table>\n",
       "<p>200 rows × 6 columns</p>\n",
       "</div>"
      ],
      "text/plain": [
       "    student_id  hours_studied  sleep_hours  attendance_percent  \\\n",
       "0         S001            8.0          8.8                72.1   \n",
       "1         S002            1.3          8.6                60.7   \n",
       "2         S003            4.0          8.2                73.7   \n",
       "3         S004            3.5          4.8                95.1   \n",
       "4         S005            9.1          6.4                89.8   \n",
       "..         ...            ...          ...                 ...   \n",
       "195       S196           10.5          5.4                94.0   \n",
       "196       S197            7.1          6.1                85.1   \n",
       "197       S198            1.6          6.9                63.8   \n",
       "198       S199           12.0          7.3                50.5   \n",
       "199       S200           10.2          6.3                97.4   \n",
       "\n",
       "     previous_scores  exam_score  \n",
       "0                 45        30.2  \n",
       "1                 55        25.0  \n",
       "2                 86        35.8  \n",
       "3                 66        34.0  \n",
       "4                 71        40.3  \n",
       "..               ...         ...  \n",
       "195               87        42.7  \n",
       "196               92        40.4  \n",
       "197               76        28.2  \n",
       "198               58        42.0  \n",
       "199               68        37.8  \n",
       "\n",
       "[200 rows x 6 columns]"
      ]
     },
     "execution_count": 2,
     "metadata": {},
     "output_type": "execute_result"
    }
   ],
   "source": [
    "data = pd.read_csv('student_exam_scores.csv')\n",
    "data"
   ]
  },
  {
   "cell_type": "code",
   "execution_count": 3,
   "id": "accdf910-ebb6-4d02-be30-cd527870da33",
   "metadata": {},
   "outputs": [
    {
     "data": {
      "text/html": [
       "<div>\n",
       "<style scoped>\n",
       "    .dataframe tbody tr th:only-of-type {\n",
       "        vertical-align: middle;\n",
       "    }\n",
       "\n",
       "    .dataframe tbody tr th {\n",
       "        vertical-align: top;\n",
       "    }\n",
       "\n",
       "    .dataframe thead th {\n",
       "        text-align: right;\n",
       "    }\n",
       "</style>\n",
       "<table border=\"1\" class=\"dataframe\">\n",
       "  <thead>\n",
       "    <tr style=\"text-align: right;\">\n",
       "      <th></th>\n",
       "      <th>student_id</th>\n",
       "      <th>hours_studied</th>\n",
       "      <th>sleep_hours</th>\n",
       "      <th>attendance_percent</th>\n",
       "      <th>previous_scores</th>\n",
       "      <th>exam_score</th>\n",
       "    </tr>\n",
       "  </thead>\n",
       "  <tbody>\n",
       "    <tr>\n",
       "      <th>0</th>\n",
       "      <td>S001</td>\n",
       "      <td>8.0</td>\n",
       "      <td>8.8</td>\n",
       "      <td>72.1</td>\n",
       "      <td>45</td>\n",
       "      <td>30.2</td>\n",
       "    </tr>\n",
       "    <tr>\n",
       "      <th>1</th>\n",
       "      <td>S002</td>\n",
       "      <td>1.3</td>\n",
       "      <td>8.6</td>\n",
       "      <td>60.7</td>\n",
       "      <td>55</td>\n",
       "      <td>25.0</td>\n",
       "    </tr>\n",
       "    <tr>\n",
       "      <th>2</th>\n",
       "      <td>S003</td>\n",
       "      <td>4.0</td>\n",
       "      <td>8.2</td>\n",
       "      <td>73.7</td>\n",
       "      <td>86</td>\n",
       "      <td>35.8</td>\n",
       "    </tr>\n",
       "    <tr>\n",
       "      <th>3</th>\n",
       "      <td>S004</td>\n",
       "      <td>3.5</td>\n",
       "      <td>4.8</td>\n",
       "      <td>95.1</td>\n",
       "      <td>66</td>\n",
       "      <td>34.0</td>\n",
       "    </tr>\n",
       "    <tr>\n",
       "      <th>4</th>\n",
       "      <td>S005</td>\n",
       "      <td>9.1</td>\n",
       "      <td>6.4</td>\n",
       "      <td>89.8</td>\n",
       "      <td>71</td>\n",
       "      <td>40.3</td>\n",
       "    </tr>\n",
       "  </tbody>\n",
       "</table>\n",
       "</div>"
      ],
      "text/plain": [
       "  student_id  hours_studied  sleep_hours  attendance_percent  previous_scores  \\\n",
       "0       S001            8.0          8.8                72.1               45   \n",
       "1       S002            1.3          8.6                60.7               55   \n",
       "2       S003            4.0          8.2                73.7               86   \n",
       "3       S004            3.5          4.8                95.1               66   \n",
       "4       S005            9.1          6.4                89.8               71   \n",
       "\n",
       "   exam_score  \n",
       "0        30.2  \n",
       "1        25.0  \n",
       "2        35.8  \n",
       "3        34.0  \n",
       "4        40.3  "
      ]
     },
     "execution_count": 3,
     "metadata": {},
     "output_type": "execute_result"
    }
   ],
   "source": [
    "data.head()"
   ]
  },
  {
   "cell_type": "code",
   "execution_count": 4,
   "id": "96ef1763-9cb7-4ccc-890e-d659ef3f9953",
   "metadata": {},
   "outputs": [
    {
     "data": {
      "text/html": [
       "<div>\n",
       "<style scoped>\n",
       "    .dataframe tbody tr th:only-of-type {\n",
       "        vertical-align: middle;\n",
       "    }\n",
       "\n",
       "    .dataframe tbody tr th {\n",
       "        vertical-align: top;\n",
       "    }\n",
       "\n",
       "    .dataframe thead th {\n",
       "        text-align: right;\n",
       "    }\n",
       "</style>\n",
       "<table border=\"1\" class=\"dataframe\">\n",
       "  <thead>\n",
       "    <tr style=\"text-align: right;\">\n",
       "      <th></th>\n",
       "      <th>student_id</th>\n",
       "      <th>hours_studied</th>\n",
       "      <th>sleep_hours</th>\n",
       "      <th>attendance_percent</th>\n",
       "      <th>previous_scores</th>\n",
       "      <th>exam_score</th>\n",
       "    </tr>\n",
       "  </thead>\n",
       "  <tbody>\n",
       "    <tr>\n",
       "      <th>195</th>\n",
       "      <td>S196</td>\n",
       "      <td>10.5</td>\n",
       "      <td>5.4</td>\n",
       "      <td>94.0</td>\n",
       "      <td>87</td>\n",
       "      <td>42.7</td>\n",
       "    </tr>\n",
       "    <tr>\n",
       "      <th>196</th>\n",
       "      <td>S197</td>\n",
       "      <td>7.1</td>\n",
       "      <td>6.1</td>\n",
       "      <td>85.1</td>\n",
       "      <td>92</td>\n",
       "      <td>40.4</td>\n",
       "    </tr>\n",
       "    <tr>\n",
       "      <th>197</th>\n",
       "      <td>S198</td>\n",
       "      <td>1.6</td>\n",
       "      <td>6.9</td>\n",
       "      <td>63.8</td>\n",
       "      <td>76</td>\n",
       "      <td>28.2</td>\n",
       "    </tr>\n",
       "    <tr>\n",
       "      <th>198</th>\n",
       "      <td>S199</td>\n",
       "      <td>12.0</td>\n",
       "      <td>7.3</td>\n",
       "      <td>50.5</td>\n",
       "      <td>58</td>\n",
       "      <td>42.0</td>\n",
       "    </tr>\n",
       "    <tr>\n",
       "      <th>199</th>\n",
       "      <td>S200</td>\n",
       "      <td>10.2</td>\n",
       "      <td>6.3</td>\n",
       "      <td>97.4</td>\n",
       "      <td>68</td>\n",
       "      <td>37.8</td>\n",
       "    </tr>\n",
       "  </tbody>\n",
       "</table>\n",
       "</div>"
      ],
      "text/plain": [
       "    student_id  hours_studied  sleep_hours  attendance_percent  \\\n",
       "195       S196           10.5          5.4                94.0   \n",
       "196       S197            7.1          6.1                85.1   \n",
       "197       S198            1.6          6.9                63.8   \n",
       "198       S199           12.0          7.3                50.5   \n",
       "199       S200           10.2          6.3                97.4   \n",
       "\n",
       "     previous_scores  exam_score  \n",
       "195               87        42.7  \n",
       "196               92        40.4  \n",
       "197               76        28.2  \n",
       "198               58        42.0  \n",
       "199               68        37.8  "
      ]
     },
     "execution_count": 4,
     "metadata": {},
     "output_type": "execute_result"
    }
   ],
   "source": [
    "data.tail()"
   ]
  },
  {
   "cell_type": "code",
   "execution_count": 5,
   "id": "202a1e41-bb59-44cb-8a49-35e69b663752",
   "metadata": {},
   "outputs": [
    {
     "name": "stdout",
     "output_type": "stream",
     "text": [
      "Index(['student_id', 'hours_studied', 'sleep_hours', 'attendance_percent',\n",
      "       'previous_scores', 'exam_score'],\n",
      "      dtype='object')\n"
     ]
    }
   ],
   "source": [
    "print(data.columns)"
   ]
  },
  {
   "cell_type": "code",
   "execution_count": 6,
   "id": "c3ee818b-1dbd-4211-b652-5d3af8c0a996",
   "metadata": {},
   "outputs": [
    {
     "name": "stdout",
     "output_type": "stream",
     "text": [
      "       hours_studied  sleep_hours  attendance_percent  previous_scores  \\\n",
      "count     200.000000   200.000000          200.000000       200.000000   \n",
      "mean        6.325500     6.622000           74.830000        66.800000   \n",
      "std         3.227317     1.497138           14.249905        15.663869   \n",
      "min         1.000000     4.000000           50.300000        40.000000   \n",
      "25%         3.500000     5.300000           62.200000        54.000000   \n",
      "50%         6.150000     6.700000           75.250000        67.500000   \n",
      "75%         9.000000     8.025000           87.425000        80.000000   \n",
      "max        12.000000     9.000000          100.000000        95.000000   \n",
      "\n",
      "       exam_score  \n",
      "count  200.000000  \n",
      "mean    33.955000  \n",
      "std      6.789548  \n",
      "min     17.100000  \n",
      "25%     29.500000  \n",
      "50%     34.050000  \n",
      "75%     38.750000  \n",
      "max     51.300000  \n"
     ]
    }
   ],
   "source": [
    "print(data.describe())"
   ]
  },
  {
   "cell_type": "code",
   "execution_count": 7,
   "id": "625023dc-ce16-46a0-90ef-0b2b56403037",
   "metadata": {},
   "outputs": [
    {
     "name": "stdout",
     "output_type": "stream",
     "text": [
      "0\n"
     ]
    }
   ],
   "source": [
    "print(data.duplicated().sum())"
   ]
  },
  {
   "cell_type": "code",
   "execution_count": 8,
   "id": "147fce41-062c-46e9-a088-8ccb1c31ed32",
   "metadata": {},
   "outputs": [
    {
     "data": {
      "text/plain": [
       "student_id            S087\n",
       "hours_studied         12.0\n",
       "sleep_hours            8.2\n",
       "attendance_percent    71.0\n",
       "previous_scores         95\n",
       "exam_score            51.3\n",
       "Name: 86, dtype: object"
      ]
     },
     "execution_count": 8,
     "metadata": {},
     "output_type": "execute_result"
    }
   ],
   "source": [
    "data.loc[data['hours_studied'].idxmax()]"
   ]
  },
  {
   "cell_type": "code",
   "execution_count": 9,
   "id": "5bce4f7c-14dd-4de5-98e8-19b8bed8da9c",
   "metadata": {},
   "outputs": [
    {
     "data": {
      "text/plain": [
       "student_id            S087\n",
       "hours_studied         12.0\n",
       "sleep_hours            8.2\n",
       "attendance_percent    71.0\n",
       "previous_scores         95\n",
       "exam_score            51.3\n",
       "Name: 86, dtype: object"
      ]
     },
     "execution_count": 9,
     "metadata": {},
     "output_type": "execute_result"
    }
   ],
   "source": [
    "data.loc[data['exam_score'].idxmax()]"
   ]
  },
  {
   "cell_type": "code",
   "execution_count": 10,
   "id": "9830a4b0-5923-4147-8a80-3f6e2ed04631",
   "metadata": {},
   "outputs": [],
   "source": [
    "max_hours_studied_student = data.loc[data['hours_studied'].idxmax()]"
   ]
  },
  {
   "cell_type": "code",
   "execution_count": 11,
   "id": "c8a117b4-f90f-400c-92be-5491cccf86da",
   "metadata": {},
   "outputs": [
    {
     "name": "stdout",
     "output_type": "stream",
     "text": [
      "Student with max attendance:\n",
      "student_id            S087\n",
      "hours_studied         12.0\n",
      "sleep_hours            8.2\n",
      "attendance_percent    71.0\n",
      "previous_scores         95\n",
      "exam_score            51.3\n",
      "Name: 86, dtype: object\n"
     ]
    }
   ],
   "source": [
    "print(\"Student with max attendance:\")\n",
    "print(max_hours_studied_student)"
   ]
  },
  {
   "cell_type": "code",
   "execution_count": 12,
   "id": "d0ddfe6b-50b2-4b79-a564-e311ae3f5429",
   "metadata": {},
   "outputs": [],
   "source": [
    "class_avg = data['exam_score'].mean()"
   ]
  },
  {
   "cell_type": "code",
   "execution_count": 13,
   "id": "999a571c-43db-4c66-a873-e7004917458d",
   "metadata": {},
   "outputs": [
    {
     "name": "stdout",
     "output_type": "stream",
     "text": [
      "Yes! The student with max hours studied scored above average.\n"
     ]
    }
   ],
   "source": [
    "if max_hours_studied_student['exam_score'] > class_avg:\n",
    "    print(\"Yes! The student with max hours studied scored above average.\")\n",
    "else:\n",
    "    print(\"No, the student with max hours studied did not score above average.\")"
   ]
  },
  {
   "cell_type": "code",
   "execution_count": 14,
   "id": "407db2ad-8dc8-4f9e-ae0a-d3cf8d732e43",
   "metadata": {},
   "outputs": [
    {
     "data": {
      "text/html": [
       "<div>\n",
       "<style scoped>\n",
       "    .dataframe tbody tr th:only-of-type {\n",
       "        vertical-align: middle;\n",
       "    }\n",
       "\n",
       "    .dataframe tbody tr th {\n",
       "        vertical-align: top;\n",
       "    }\n",
       "\n",
       "    .dataframe thead th {\n",
       "        text-align: right;\n",
       "    }\n",
       "</style>\n",
       "<table border=\"1\" class=\"dataframe\">\n",
       "  <thead>\n",
       "    <tr style=\"text-align: right;\">\n",
       "      <th></th>\n",
       "      <th>hours_studied</th>\n",
       "      <th>exam_score</th>\n",
       "    </tr>\n",
       "  </thead>\n",
       "  <tbody>\n",
       "    <tr>\n",
       "      <th>hours_studied</th>\n",
       "      <td>1.000000</td>\n",
       "      <td>0.776751</td>\n",
       "    </tr>\n",
       "    <tr>\n",
       "      <th>exam_score</th>\n",
       "      <td>0.776751</td>\n",
       "      <td>1.000000</td>\n",
       "    </tr>\n",
       "  </tbody>\n",
       "</table>\n",
       "</div>"
      ],
      "text/plain": [
       "               hours_studied  exam_score\n",
       "hours_studied       1.000000    0.776751\n",
       "exam_score          0.776751    1.000000"
      ]
     },
     "execution_count": 14,
     "metadata": {},
     "output_type": "execute_result"
    }
   ],
   "source": [
    "data[['hours_studied', 'exam_score']].corr()"
   ]
  },
  {
   "cell_type": "code",
   "execution_count": 15,
   "id": "d18e55af-e5ad-4aab-a632-324b475aebdc",
   "metadata": {},
   "outputs": [
    {
     "data": {
      "image/png": "[encoded data removed]",
      "text/plain": [
       "<Figure size 640x480 with 1 Axes>"
      ]
     },
     "metadata": {},
     "output_type": "display_data"
    }
   ],
   "source": [
    "import matplotlib.pyplot as plt\n",
    "\n",
    "# Hours studied vs Exam score\n",
    "plt.scatter(data['hours_studied'], data['exam_score'])\n",
    "plt.xlabel('Hours Studied')\n",
    "plt.ylabel('Exam Score')\n",
    "plt.title('Study Hours vs Exam Performance')\n",
    "plt.show()\n"
   ]
  },
  {
   "cell_type": "markdown",
   "id": "00851dee-4842-415f-8d7e-d1516bc812ae",
   "metadata": {},
   "source": [
    "\"people who studied maximum hours has scores max in the exam\""
   ]
  },
  {
   "cell_type": "code",
   "execution_count": 17,
   "id": "b59601e0-c261-493b-83f3-086dd58b4c62",
   "metadata": {},
   "outputs": [],
   "source": [
    "max_attendance_student = data.loc[data['attendance_percent'].idxmax()]"
   ]
  },
  {
   "cell_type": "code",
   "execution_count": 18,
   "id": "279b0a79-ac8f-45f6-9420-810c4a596c64",
   "metadata": {},
   "outputs": [
    {
     "name": "stdout",
     "output_type": "stream",
     "text": [
      "Student with max attendance:\n",
      "student_id             S121\n",
      "hours_studied           9.4\n",
      "sleep_hours             8.3\n",
      "attendance_percent    100.0\n",
      "previous_scores          78\n",
      "exam_score             47.9\n",
      "Name: 120, dtype: object\n"
     ]
    }
   ],
   "source": [
    "print(\"Student with max attendance:\")\n",
    "print(max_attendance_student)"
   ]
  },
  {
   "cell_type": "code",
   "execution_count": 19,
   "id": "82da1053-0631-4b61-ba18-81c7d4fa5868",
   "metadata": {},
   "outputs": [],
   "source": [
    "class_avg = data['exam_score'].mean()"
   ]
  },
  {
   "cell_type": "code",
   "execution_count": 20,
   "id": "295702ab-1d4d-4b0f-bdec-9fa753f4ef4e",
   "metadata": {},
   "outputs": [
    {
     "name": "stdout",
     "output_type": "stream",
     "text": [
      "Yes! The student with max attendance scored above average.\n"
     ]
    }
   ],
   "source": [
    "if max_attendance_student['exam_score'] > class_avg:\n",
    "    print(\"Yes! The student with max attendance scored above average.\")\n",
    "else:\n",
    "    print(\"No, the student with max attendance did not score above average.\")"
   ]
  },
  {
   "cell_type": "code",
   "execution_count": 21,
   "id": "49994c39-572e-485d-aaf6-1426f8f170da",
   "metadata": {},
   "outputs": [
    {
     "data": {
      "image/png": "[encoded data removed]",
      "text/plain": [
       "<Figure size 640x480 with 2 Axes>"
      ]
     },
     "metadata": {},
     "output_type": "display_data"
    }
   ],
   "source": [
    "\n",
    "fig, ax1 = plt.subplots()\n",
    "\n",
    "# Attendance bar chart\n",
    "ax1.bar(data['student_id'], data['attendance_percent'], color='blue', alpha=0.6, label=\"Attendance %\")\n",
    "ax1.set_xlabel(\"Student ID\")\n",
    "ax1.set_ylabel(\"Attendance %\", color='blue')\n",
    "ax1.tick_params(axis='y', labelcolor='blue')\n",
    "\n",
    "# Create second axis for exam score\n",
    "ax2 = ax1.twinx()\n",
    "ax2.plot(data['student_id'], data['exam_score'], color='red', marker='o', label=\"Exam Score\")\n",
    "ax2.set_ylabel(\"Exam Score\", color='red')\n",
    "ax2.tick_params(axis='y', labelcolor='red')\n",
    "\n",
    "plt.title(\"Attendance vs Exam Score\")\n",
    "fig.tight_layout()\n",
    "plt.show()\n"
   ]
  },
  {
   "cell_type": "markdown",
   "id": "44c274cd-00fc-47da-b0e1-98c90122e67e",
   "metadata": {},
   "source": [
    "“The student with the maximum attendance (98%) scored 95 marks, which is above the class average of 82.”"
   ]
  },
  {
   "cell_type": "code",
   "execution_count": null,
   "id": "8f015940-cfec-4da2-929a-10a3de690765",
   "metadata": {},
   "outputs": [],
   "source": []
  }
 ],
 "metadata": {
  "kernelspec": {
   "display_name": "Python [conda env:base] *",
   "language": "python",
   "name": "conda-base-py"
  },
  "language_info": {
   "codemirror_mode": {
    "name": "ipython",
    "version": 3
   },
   "file_extension": ".py",
   "mimetype": "text/x-python",
   "name": "python",
   "nbconvert_exporter": "python",
   "pygments_lexer": "ipython3",
   "version": "3.11.7"
  }
 },
 "nbformat": 4,
 "nbformat_minor": 5
}
